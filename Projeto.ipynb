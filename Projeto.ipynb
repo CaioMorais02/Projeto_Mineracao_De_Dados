{
 "cells": [
  {
   "cell_type": "markdown",
   "id": "b4458b58-edc2-4f56-acf7-1a15752de10b",
   "metadata": {},
   "source": [
    "# 1- Selecionar base de dados"
   ]
  },
  {
   "cell_type": "code",
   "execution_count": 1,
   "id": "cabb5305-e8bd-422b-bf1b-66a66b8aca54",
   "metadata": {},
   "outputs": [
    {
     "data": {
      "text/html": [
       "<div>\n",
       "<style scoped>\n",
       "    .dataframe tbody tr th:only-of-type {\n",
       "        vertical-align: middle;\n",
       "    }\n",
       "\n",
       "    .dataframe tbody tr th {\n",
       "        vertical-align: top;\n",
       "    }\n",
       "\n",
       "    .dataframe thead th {\n",
       "        text-align: right;\n",
       "    }\n",
       "</style>\n",
       "<table border=\"1\" class=\"dataframe\">\n",
       "  <thead>\n",
       "    <tr style=\"text-align: right;\">\n",
       "      <th></th>\n",
       "      <th>Nome Ente</th>\n",
       "      <th>UF</th>\n",
       "      <th>Código Siafi</th>\n",
       "      <th>Código IBGE</th>\n",
       "      <th>Data</th>\n",
       "      <th>Ano</th>\n",
       "      <th>Mês</th>\n",
       "      <th>Tipo Ente</th>\n",
       "      <th>OB</th>\n",
       "      <th>CNPJ do Favorecido</th>\n",
       "      <th>Nome Favorecido</th>\n",
       "      <th>Nome Emenda</th>\n",
       "      <th>Transferência Especial</th>\n",
       "      <th>Categoria Econômica Despesa</th>\n",
       "      <th>Valor</th>\n",
       "    </tr>\n",
       "  </thead>\n",
       "  <tbody>\n",
       "    <tr>\n",
       "      <th>0</th>\n",
       "      <td>Nova Santa Rosa</td>\n",
       "      <td>PR</td>\n",
       "      <td>7979</td>\n",
       "      <td>4117222</td>\n",
       "      <td>42005</td>\n",
       "      <td>2015</td>\n",
       "      <td>janeiro</td>\n",
       "      <td>Município</td>\n",
       "      <td>135098000012015OB800001</td>\n",
       "      <td>77116663000109</td>\n",
       "      <td>MUNICIPIO DE NOVA SANTA ROSA</td>\n",
       "      <td>Emenda Individual</td>\n",
       "      <td>Não</td>\n",
       "      <td>DESPESAS DE CAPITAL</td>\n",
       "      <td>243750</td>\n",
       "    </tr>\n",
       "    <tr>\n",
       "      <th>1</th>\n",
       "      <td>Humaitá</td>\n",
       "      <td>RS</td>\n",
       "      <td>8695</td>\n",
       "      <td>4309704</td>\n",
       "      <td>42005</td>\n",
       "      <td>2015</td>\n",
       "      <td>janeiro</td>\n",
       "      <td>Município</td>\n",
       "      <td>135098000012015OB800002</td>\n",
       "      <td>87613139000199</td>\n",
       "      <td>MUNICIPIO DE HUMAITA</td>\n",
       "      <td>Emenda Individual</td>\n",
       "      <td>Não</td>\n",
       "      <td>DESPESAS DE CAPITAL</td>\n",
       "      <td>144300</td>\n",
       "    </tr>\n",
       "    <tr>\n",
       "      <th>2</th>\n",
       "      <td>Nova Venécia</td>\n",
       "      <td>ES</td>\n",
       "      <td>5677</td>\n",
       "      <td>3203908</td>\n",
       "      <td>42005</td>\n",
       "      <td>2015</td>\n",
       "      <td>janeiro</td>\n",
       "      <td>Município</td>\n",
       "      <td>135098000012015OB800003</td>\n",
       "      <td>27167428000180</td>\n",
       "      <td>MUNICIPIO DE NOVA VENECIA</td>\n",
       "      <td>Emenda Individual</td>\n",
       "      <td>Não</td>\n",
       "      <td>DESPESAS DE CAPITAL</td>\n",
       "      <td>97500</td>\n",
       "    </tr>\n",
       "    <tr>\n",
       "      <th>3</th>\n",
       "      <td>Gravatal</td>\n",
       "      <td>SC</td>\n",
       "      <td>8121</td>\n",
       "      <td>4206207</td>\n",
       "      <td>42005</td>\n",
       "      <td>2015</td>\n",
       "      <td>janeiro</td>\n",
       "      <td>Município</td>\n",
       "      <td>135098000012015OB800004</td>\n",
       "      <td>82926569000147</td>\n",
       "      <td>MUNICIPIO DE GRAVATAL</td>\n",
       "      <td>Emenda Individual</td>\n",
       "      <td>Não</td>\n",
       "      <td>DESPESAS DE CAPITAL</td>\n",
       "      <td>195000</td>\n",
       "    </tr>\n",
       "    <tr>\n",
       "      <th>4</th>\n",
       "      <td>Passo de Torres</td>\n",
       "      <td>SC</td>\n",
       "      <td>5541</td>\n",
       "      <td>4212254</td>\n",
       "      <td>42005</td>\n",
       "      <td>2015</td>\n",
       "      <td>janeiro</td>\n",
       "      <td>Município</td>\n",
       "      <td>135098000012015OB800005</td>\n",
       "      <td>95782793000154</td>\n",
       "      <td>MUNICIPIO DE PASSO DE TORRES</td>\n",
       "      <td>Emenda Individual</td>\n",
       "      <td>Não</td>\n",
       "      <td>DESPESAS DE CAPITAL</td>\n",
       "      <td>97500</td>\n",
       "    </tr>\n",
       "  </tbody>\n",
       "</table>\n",
       "</div>"
      ],
      "text/plain": [
       "         Nome Ente  UF Código Siafi  Código IBGE   Data   Ano      Mês  \\\n",
       "0  Nova Santa Rosa  PR         7979      4117222  42005  2015  janeiro   \n",
       "1          Humaitá  RS         8695      4309704  42005  2015  janeiro   \n",
       "2     Nova Venécia  ES         5677      3203908  42005  2015  janeiro   \n",
       "3         Gravatal  SC         8121      4206207  42005  2015  janeiro   \n",
       "4  Passo de Torres  SC         5541      4212254  42005  2015  janeiro   \n",
       "\n",
       "   Tipo Ente                       OB  CNPJ do Favorecido  \\\n",
       "0  Município  135098000012015OB800001      77116663000109   \n",
       "1  Município  135098000012015OB800002      87613139000199   \n",
       "2  Município  135098000012015OB800003      27167428000180   \n",
       "3  Município  135098000012015OB800004      82926569000147   \n",
       "4  Município  135098000012015OB800005      95782793000154   \n",
       "\n",
       "                Nome Favorecido        Nome Emenda Transferência Especial  \\\n",
       "0  MUNICIPIO DE NOVA SANTA ROSA  Emenda Individual                    Não   \n",
       "1          MUNICIPIO DE HUMAITA  Emenda Individual                    Não   \n",
       "2     MUNICIPIO DE NOVA VENECIA  Emenda Individual                    Não   \n",
       "3         MUNICIPIO DE GRAVATAL  Emenda Individual                    Não   \n",
       "4  MUNICIPIO DE PASSO DE TORRES  Emenda Individual                    Não   \n",
       "\n",
       "  Categoria Econômica Despesa   Valor  \n",
       "0         DESPESAS DE CAPITAL  243750  \n",
       "1         DESPESAS DE CAPITAL  144300  \n",
       "2         DESPESAS DE CAPITAL   97500  \n",
       "3         DESPESAS DE CAPITAL  195000  \n",
       "4         DESPESAS DE CAPITAL   97500  "
      ]
     },
     "execution_count": 1,
     "metadata": {},
     "output_type": "execute_result"
    }
   ],
   "source": [
    "import pandas as pd\n",
    "df = pd.read_csv('Dados-Abertos.csv', encoding='ISO-8859-1', sep=';')\n",
    "\n",
    "df.head()"
   ]
  },
  {
   "cell_type": "code",
   "execution_count": 2,
   "id": "4551a455-cbf0-41fe-a5c0-abb75da9b18d",
   "metadata": {},
   "outputs": [
    {
     "name": "stdout",
     "output_type": "stream",
     "text": [
      "float64\n"
     ]
    }
   ],
   "source": [
    "df['Valor'] = pd.to_numeric(df['Valor'], errors='coerce')\n",
    "print(df['Valor'].dtypes)"
   ]
  },
  {
   "cell_type": "code",
   "execution_count": 5,
   "id": "a1e52272-05e3-42ab-b242-8038766da9b0",
   "metadata": {},
   "outputs": [
    {
     "name": "stdout",
     "output_type": "stream",
     "text": [
      "0.25    100000.0\n",
      "0.50    181160.0\n",
      "0.75    300000.0\n",
      "Name: Valor, dtype: float64\n"
     ]
    }
   ],
   "source": [
    "# Calculando os quartis para uma coluna específica\n",
    "quartis = df['Valor'].quantile([0.25, 0.5, 0.75])\n",
    "\n",
    "# Imprimindo os quartis\n",
    "print(quartis)"
   ]
  },
  {
   "cell_type": "markdown",
   "id": "77c2a294-bf2c-4228-888a-f0c761365c1e",
   "metadata": {},
   "source": [
    "# 2- Apresentar um relatório descritivo, quantidade de registros, valores faltando, linhas duplicadas e valores sujos"
   ]
  },
  {
   "cell_type": "code",
   "execution_count": 4,
   "id": "889eaf0f-9935-4605-963f-8a510ac8e710",
   "metadata": {},
   "outputs": [
    {
     "name": "stdout",
     "output_type": "stream",
     "text": [
      "Quantidade de registros: 272076\n"
     ]
    }
   ],
   "source": [
    "quantidade_registros = len(df)\n",
    "print(\"Quantidade de registros:\", quantidade_registros)"
   ]
  },
  {
   "cell_type": "code",
   "execution_count": 5,
   "id": "df34d578-9d5b-4701-939c-956cf496957f",
   "metadata": {},
   "outputs": [
    {
     "name": "stdout",
     "output_type": "stream",
     "text": [
      "Nome Ente                          0\n",
      "UF                                 0\n",
      "Código Siafi                       0\n",
      "Código IBGE                        0\n",
      "Data                               0\n",
      "Ano                                0\n",
      "Mês                                0\n",
      "Tipo Ente                          0\n",
      "OB                                 0\n",
      "CNPJ do Favorecido                 0\n",
      "Nome Favorecido                    0\n",
      "Nome Emenda                        0\n",
      "Transferência Especial             0\n",
      "Categoria Econômica Despesa        0\n",
      "Valor                          41083\n",
      "dtype: int64\n"
     ]
    }
   ],
   "source": [
    "valores_faltando_por_coluna = df.isna().sum()\n",
    "print(valores_faltando_por_coluna)"
   ]
  },
  {
   "cell_type": "code",
   "execution_count": 6,
   "id": "d2c1fdde-a608-4ecf-9eb9-b646154bb402",
   "metadata": {},
   "outputs": [
    {
     "name": "stdout",
     "output_type": "stream",
     "text": [
      "Quantidade de linhas duplicadas: 6201\n"
     ]
    }
   ],
   "source": [
    "quantidade_duplicatas = df.duplicated().sum()\n",
    "\n",
    "print(\"Quantidade de linhas duplicadas:\", quantidade_duplicatas)"
   ]
  },
  {
   "cell_type": "code",
   "execution_count": 7,
   "id": "d4735668-0381-4450-8454-de41ed643678",
   "metadata": {},
   "outputs": [
    {
     "name": "stdout",
     "output_type": "stream",
     "text": [
      "Quantidade de valores sujos por coluna:\n",
      "Nome Ente                          0\n",
      "UF                                 0\n",
      "Código Siafi                       0\n",
      "Código IBGE                        0\n",
      "Data                               0\n",
      "Ano                                0\n",
      "Mês                                0\n",
      "Tipo Ente                          0\n",
      "OB                                 0\n",
      "CNPJ do Favorecido                 0\n",
      "Nome Favorecido                    0\n",
      "Nome Emenda                        0\n",
      "Transferência Especial             0\n",
      "Categoria Econômica Despesa        0\n",
      "Valor                          41083\n",
      "dtype: int64\n"
     ]
    }
   ],
   "source": [
    "quantidade_valores_sujos_por_coluna = df.isnull().sum()\n",
    "\n",
    "print(\"Quantidade de valores sujos por coluna:\")\n",
    "print(quantidade_valores_sujos_por_coluna)"
   ]
  },
  {
   "cell_type": "code",
   "execution_count": 7,
   "id": "9d54b892-d061-4656-a7a4-95051d076efc",
   "metadata": {},
   "outputs": [
    {
     "name": "stdout",
     "output_type": "stream",
     "text": [
      "Nome Ente                      0\n",
      "UF                             0\n",
      "Código Siafi                   0\n",
      "Código IBGE                    0\n",
      "Data                           0\n",
      "Ano                            0\n",
      "Mês                            0\n",
      "Tipo Ente                      0\n",
      "OB                             0\n",
      "CNPJ do Favorecido             0\n",
      "Nome Favorecido                0\n",
      "Nome Emenda                    0\n",
      "Transferência Especial         0\n",
      "Categoria Econômica Despesa    0\n",
      "Valor                          0\n",
      "dtype: int64\n"
     ]
    }
   ],
   "source": [
    "df = df.dropna(subset=['Valor'])\n",
    "\n",
    "valores_faltando_por_coluna = df.isna().sum()\n",
    "print(valores_faltando_por_coluna)"
   ]
  },
  {
   "cell_type": "code",
   "execution_count": 8,
   "id": "08deb29f-0251-4ec5-a9b0-c95aa00726fb",
   "metadata": {},
   "outputs": [
    {
     "name": "stdout",
     "output_type": "stream",
     "text": [
      "Quantidade de registros: 230993\n"
     ]
    }
   ],
   "source": [
    "quantidade_registros = len(df)\n",
    "print(\"Quantidade de registros:\", quantidade_registros)"
   ]
  },
  {
   "cell_type": "markdown",
   "id": "993d04e9-42d8-477f-ac68-f9630294ccd6",
   "metadata": {},
   "source": [
    "# 2.1 Categorizando algumas colunas utilizando a norma Codificação Ordinal e retirando colunas que não serão necessárias no teste"
   ]
  },
  {
   "cell_type": "code",
   "execution_count": 8,
   "id": "55bb4754-439d-494b-ab7a-f95028d5463a",
   "metadata": {},
   "outputs": [
    {
     "name": "stdout",
     "output_type": "stream",
     "text": [
      "['janeiro' 'fevereiro' 'março' 'abril' 'maio' 'junho' 'julho' 'agosto'\n",
      " 'setembro' 'outubro' 'novembro' 'dezembro']\n"
     ]
    }
   ],
   "source": [
    "print(df['Mês'].unique())"
   ]
  },
  {
   "cell_type": "code",
   "execution_count": 9,
   "id": "f67fdad9-948b-494a-8731-ba27652b2411",
   "metadata": {},
   "outputs": [
    {
     "name": "stdout",
     "output_type": "stream",
     "text": [
      "['Município' 'Estado']\n"
     ]
    }
   ],
   "source": [
    "print(df['Tipo Ente'].unique())"
   ]
  },
  {
   "cell_type": "code",
   "execution_count": 10,
   "id": "defa89b3-86fc-41da-a68b-19b8e5258a82",
   "metadata": {},
   "outputs": [
    {
     "name": "stdout",
     "output_type": "stream",
     "text": [
      "['Emenda Individual' 'Emenda de Bancada']\n"
     ]
    }
   ],
   "source": [
    "print(df['Nome Emenda'].unique())"
   ]
  },
  {
   "cell_type": "code",
   "execution_count": 11,
   "id": "f357b669-da29-4baa-b90d-24c64f594248",
   "metadata": {},
   "outputs": [
    {
     "name": "stdout",
     "output_type": "stream",
     "text": [
      "['Não' 'Sim']\n"
     ]
    }
   ],
   "source": [
    "print(df['Transferência Especial'].unique())"
   ]
  },
  {
   "cell_type": "code",
   "execution_count": 12,
   "id": "876fa277-d235-4ad9-8116-9aa5d5065653",
   "metadata": {},
   "outputs": [
    {
     "name": "stdout",
     "output_type": "stream",
     "text": [
      "['DESPESAS DE CAPITAL' 'DESPESAS CORRENTES']\n"
     ]
    }
   ],
   "source": [
    "print(df['Categoria Econômica Despesa'].unique())"
   ]
  },
  {
   "cell_type": "code",
   "execution_count": 9,
   "id": "3c0cfc2e-aee4-4460-b454-ea568f12776d",
   "metadata": {},
   "outputs": [
    {
     "name": "stdout",
     "output_type": "stream",
     "text": [
      "[ 1  2  3  4  5  6  7  8  9 10 11 12]\n"
     ]
    }
   ],
   "source": [
    "# Mapeamento de meses para valores ordinais\n",
    "meses_para_ordinal = {\n",
    "    'janeiro': 1, 'fevereiro': 2, 'março': 3, 'abril': 4,\n",
    "    'maio': 5, 'junho': 6, 'julho': 7, 'agosto': 8,\n",
    "    'setembro': 9, 'outubro': 10, 'novembro': 11, 'dezembro': 12\n",
    "}\n",
    "\n",
    "# Aplicando a codificação ordinal\n",
    "df['Mês'] = df['Mês'].map(meses_para_ordinal)\n",
    "\n",
    "print(df['Mês'].unique())"
   ]
  },
  {
   "cell_type": "code",
   "execution_count": 10,
   "id": "d047fa4b-d90b-4655-b9b7-5112b0b1497e",
   "metadata": {},
   "outputs": [
    {
     "name": "stdout",
     "output_type": "stream",
     "text": [
      "[0 1]\n"
     ]
    }
   ],
   "source": [
    "tipo_ente_ordinal = {\n",
    "    'Município': 0, 'Estado': 1\n",
    "}\n",
    "\n",
    "df['Tipo Ente'] = df['Tipo Ente'].map(tipo_ente_ordinal)\n",
    "\n",
    "print(df['Tipo Ente'].unique())"
   ]
  },
  {
   "cell_type": "code",
   "execution_count": 11,
   "id": "5e698b6f-c22b-43aa-976f-359a34c516d0",
   "metadata": {},
   "outputs": [
    {
     "name": "stdout",
     "output_type": "stream",
     "text": [
      "[0 1]\n"
     ]
    }
   ],
   "source": [
    "nome_emenda_ordinal = {\n",
    "    'Emenda Individual': 0, 'Emenda de Bancada': 1\n",
    "}\n",
    "\n",
    "df['Nome Emenda'] = df['Nome Emenda'].map(nome_emenda_ordinal)\n",
    "\n",
    "print(df['Nome Emenda'].unique())"
   ]
  },
  {
   "cell_type": "code",
   "execution_count": 12,
   "id": "35ae2df0-e806-4951-b031-71577adffc75",
   "metadata": {},
   "outputs": [
    {
     "name": "stdout",
     "output_type": "stream",
     "text": [
      "[0 1]\n"
     ]
    }
   ],
   "source": [
    "mapeamento = {'Não': 0, 'Sim': 1}\n",
    "\n",
    "df['Transferência Especial'] = df['Transferência Especial'].map(mapeamento)\n",
    "\n",
    "print(df['Transferência Especial'].unique())"
   ]
  },
  {
   "cell_type": "code",
   "execution_count": 13,
   "id": "424f9dc9-ba79-4d7a-948a-1775614d43b3",
   "metadata": {},
   "outputs": [
    {
     "name": "stdout",
     "output_type": "stream",
     "text": [
      "[0 1]\n"
     ]
    }
   ],
   "source": [
    "mapeamento = {\n",
    "    'DESPESAS DE CAPITAL': 0,\n",
    "    'DESPESAS CORRENTES': 1\n",
    "}\n",
    "\n",
    "df['Categoria Econômica Despesa'] = df['Categoria Econômica Despesa'].map(mapeamento)\n",
    "\n",
    "print(df['Categoria Econômica Despesa'].unique())"
   ]
  },
  {
   "cell_type": "code",
   "execution_count": 14,
   "id": "a5ad4f52-44dc-48e9-8fc5-1c79e5b0a293",
   "metadata": {},
   "outputs": [],
   "source": [
    "df = df.drop(['Nome Ente', 'UF', 'Código Siafi', 'Código IBGE', 'Data', 'OB', 'CNPJ do Favorecido', 'Nome Favorecido'], axis=1)"
   ]
  },
  {
   "cell_type": "code",
   "execution_count": 15,
   "id": "6b379105-6196-4653-b31a-5dbc924e4fed",
   "metadata": {},
   "outputs": [
    {
     "data": {
      "text/html": [
       "<div>\n",
       "<style scoped>\n",
       "    .dataframe tbody tr th:only-of-type {\n",
       "        vertical-align: middle;\n",
       "    }\n",
       "\n",
       "    .dataframe tbody tr th {\n",
       "        vertical-align: top;\n",
       "    }\n",
       "\n",
       "    .dataframe thead th {\n",
       "        text-align: right;\n",
       "    }\n",
       "</style>\n",
       "<table border=\"1\" class=\"dataframe\">\n",
       "  <thead>\n",
       "    <tr style=\"text-align: right;\">\n",
       "      <th></th>\n",
       "      <th>Ano</th>\n",
       "      <th>Mês</th>\n",
       "      <th>Tipo Ente</th>\n",
       "      <th>Nome Emenda</th>\n",
       "      <th>Transferência Especial</th>\n",
       "      <th>Categoria Econômica Despesa</th>\n",
       "      <th>Valor</th>\n",
       "    </tr>\n",
       "  </thead>\n",
       "  <tbody>\n",
       "    <tr>\n",
       "      <th>0</th>\n",
       "      <td>2015</td>\n",
       "      <td>1</td>\n",
       "      <td>0</td>\n",
       "      <td>0</td>\n",
       "      <td>0</td>\n",
       "      <td>0</td>\n",
       "      <td>243750.0</td>\n",
       "    </tr>\n",
       "    <tr>\n",
       "      <th>1</th>\n",
       "      <td>2015</td>\n",
       "      <td>1</td>\n",
       "      <td>0</td>\n",
       "      <td>0</td>\n",
       "      <td>0</td>\n",
       "      <td>0</td>\n",
       "      <td>144300.0</td>\n",
       "    </tr>\n",
       "    <tr>\n",
       "      <th>2</th>\n",
       "      <td>2015</td>\n",
       "      <td>1</td>\n",
       "      <td>0</td>\n",
       "      <td>0</td>\n",
       "      <td>0</td>\n",
       "      <td>0</td>\n",
       "      <td>97500.0</td>\n",
       "    </tr>\n",
       "    <tr>\n",
       "      <th>3</th>\n",
       "      <td>2015</td>\n",
       "      <td>1</td>\n",
       "      <td>0</td>\n",
       "      <td>0</td>\n",
       "      <td>0</td>\n",
       "      <td>0</td>\n",
       "      <td>195000.0</td>\n",
       "    </tr>\n",
       "    <tr>\n",
       "      <th>4</th>\n",
       "      <td>2015</td>\n",
       "      <td>1</td>\n",
       "      <td>0</td>\n",
       "      <td>0</td>\n",
       "      <td>0</td>\n",
       "      <td>0</td>\n",
       "      <td>97500.0</td>\n",
       "    </tr>\n",
       "  </tbody>\n",
       "</table>\n",
       "</div>"
      ],
      "text/plain": [
       "    Ano  Mês  Tipo Ente  Nome Emenda  Transferência Especial  \\\n",
       "0  2015    1          0            0                       0   \n",
       "1  2015    1          0            0                       0   \n",
       "2  2015    1          0            0                       0   \n",
       "3  2015    1          0            0                       0   \n",
       "4  2015    1          0            0                       0   \n",
       "\n",
       "   Categoria Econômica Despesa     Valor  \n",
       "0                            0  243750.0  \n",
       "1                            0  144300.0  \n",
       "2                            0   97500.0  \n",
       "3                            0  195000.0  \n",
       "4                            0   97500.0  "
      ]
     },
     "execution_count": 15,
     "metadata": {},
     "output_type": "execute_result"
    }
   ],
   "source": [
    "df.head()"
   ]
  },
  {
   "cell_type": "markdown",
   "id": "58e06a73-a327-44a8-8146-0cc610b981d8",
   "metadata": {},
   "source": [
    "# 3- Selecionar 10 algoritmos de classificação"
   ]
  },
  {
   "cell_type": "code",
   "execution_count": 16,
   "id": "11783c46-89f4-4cb6-a4b6-c81721c179bc",
   "metadata": {},
   "outputs": [
    {
     "data": {
      "text/html": [
       "<style type=\"text/css\">\n",
       "#T_26dd8_row8_col1 {\n",
       "  background-color: lightgreen;\n",
       "}\n",
       "</style>\n",
       "<table id=\"T_26dd8\">\n",
       "  <thead>\n",
       "    <tr>\n",
       "      <th class=\"blank level0\" >&nbsp;</th>\n",
       "      <th id=\"T_26dd8_level0_col0\" class=\"col_heading level0 col0\" >Description</th>\n",
       "      <th id=\"T_26dd8_level0_col1\" class=\"col_heading level0 col1\" >Value</th>\n",
       "    </tr>\n",
       "  </thead>\n",
       "  <tbody>\n",
       "    <tr>\n",
       "      <th id=\"T_26dd8_level0_row0\" class=\"row_heading level0 row0\" >0</th>\n",
       "      <td id=\"T_26dd8_row0_col0\" class=\"data row0 col0\" >Session id</td>\n",
       "      <td id=\"T_26dd8_row0_col1\" class=\"data row0 col1\" >1</td>\n",
       "    </tr>\n",
       "    <tr>\n",
       "      <th id=\"T_26dd8_level0_row1\" class=\"row_heading level0 row1\" >1</th>\n",
       "      <td id=\"T_26dd8_row1_col0\" class=\"data row1 col0\" >Target</td>\n",
       "      <td id=\"T_26dd8_row1_col1\" class=\"data row1 col1\" >Transferência Especial</td>\n",
       "    </tr>\n",
       "    <tr>\n",
       "      <th id=\"T_26dd8_level0_row2\" class=\"row_heading level0 row2\" >2</th>\n",
       "      <td id=\"T_26dd8_row2_col0\" class=\"data row2 col0\" >Target type</td>\n",
       "      <td id=\"T_26dd8_row2_col1\" class=\"data row2 col1\" >Binary</td>\n",
       "    </tr>\n",
       "    <tr>\n",
       "      <th id=\"T_26dd8_level0_row3\" class=\"row_heading level0 row3\" >3</th>\n",
       "      <td id=\"T_26dd8_row3_col0\" class=\"data row3 col0\" >Original data shape</td>\n",
       "      <td id=\"T_26dd8_row3_col1\" class=\"data row3 col1\" >(230993, 7)</td>\n",
       "    </tr>\n",
       "    <tr>\n",
       "      <th id=\"T_26dd8_level0_row4\" class=\"row_heading level0 row4\" >4</th>\n",
       "      <td id=\"T_26dd8_row4_col0\" class=\"data row4 col0\" >Transformed data shape</td>\n",
       "      <td id=\"T_26dd8_row4_col1\" class=\"data row4 col1\" >(230993, 7)</td>\n",
       "    </tr>\n",
       "    <tr>\n",
       "      <th id=\"T_26dd8_level0_row5\" class=\"row_heading level0 row5\" >5</th>\n",
       "      <td id=\"T_26dd8_row5_col0\" class=\"data row5 col0\" >Transformed train set shape</td>\n",
       "      <td id=\"T_26dd8_row5_col1\" class=\"data row5 col1\" >(161695, 7)</td>\n",
       "    </tr>\n",
       "    <tr>\n",
       "      <th id=\"T_26dd8_level0_row6\" class=\"row_heading level0 row6\" >6</th>\n",
       "      <td id=\"T_26dd8_row6_col0\" class=\"data row6 col0\" >Transformed test set shape</td>\n",
       "      <td id=\"T_26dd8_row6_col1\" class=\"data row6 col1\" >(69298, 7)</td>\n",
       "    </tr>\n",
       "    <tr>\n",
       "      <th id=\"T_26dd8_level0_row7\" class=\"row_heading level0 row7\" >7</th>\n",
       "      <td id=\"T_26dd8_row7_col0\" class=\"data row7 col0\" >Numeric features</td>\n",
       "      <td id=\"T_26dd8_row7_col1\" class=\"data row7 col1\" >6</td>\n",
       "    </tr>\n",
       "    <tr>\n",
       "      <th id=\"T_26dd8_level0_row8\" class=\"row_heading level0 row8\" >8</th>\n",
       "      <td id=\"T_26dd8_row8_col0\" class=\"data row8 col0\" >Preprocess</td>\n",
       "      <td id=\"T_26dd8_row8_col1\" class=\"data row8 col1\" >True</td>\n",
       "    </tr>\n",
       "    <tr>\n",
       "      <th id=\"T_26dd8_level0_row9\" class=\"row_heading level0 row9\" >9</th>\n",
       "      <td id=\"T_26dd8_row9_col0\" class=\"data row9 col0\" >Imputation type</td>\n",
       "      <td id=\"T_26dd8_row9_col1\" class=\"data row9 col1\" >simple</td>\n",
       "    </tr>\n",
       "    <tr>\n",
       "      <th id=\"T_26dd8_level0_row10\" class=\"row_heading level0 row10\" >10</th>\n",
       "      <td id=\"T_26dd8_row10_col0\" class=\"data row10 col0\" >Numeric imputation</td>\n",
       "      <td id=\"T_26dd8_row10_col1\" class=\"data row10 col1\" >mean</td>\n",
       "    </tr>\n",
       "    <tr>\n",
       "      <th id=\"T_26dd8_level0_row11\" class=\"row_heading level0 row11\" >11</th>\n",
       "      <td id=\"T_26dd8_row11_col0\" class=\"data row11 col0\" >Categorical imputation</td>\n",
       "      <td id=\"T_26dd8_row11_col1\" class=\"data row11 col1\" >mode</td>\n",
       "    </tr>\n",
       "    <tr>\n",
       "      <th id=\"T_26dd8_level0_row12\" class=\"row_heading level0 row12\" >12</th>\n",
       "      <td id=\"T_26dd8_row12_col0\" class=\"data row12 col0\" >Fold Generator</td>\n",
       "      <td id=\"T_26dd8_row12_col1\" class=\"data row12 col1\" >StratifiedKFold</td>\n",
       "    </tr>\n",
       "    <tr>\n",
       "      <th id=\"T_26dd8_level0_row13\" class=\"row_heading level0 row13\" >13</th>\n",
       "      <td id=\"T_26dd8_row13_col0\" class=\"data row13 col0\" >Fold Number</td>\n",
       "      <td id=\"T_26dd8_row13_col1\" class=\"data row13 col1\" >10</td>\n",
       "    </tr>\n",
       "    <tr>\n",
       "      <th id=\"T_26dd8_level0_row14\" class=\"row_heading level0 row14\" >14</th>\n",
       "      <td id=\"T_26dd8_row14_col0\" class=\"data row14 col0\" >CPU Jobs</td>\n",
       "      <td id=\"T_26dd8_row14_col1\" class=\"data row14 col1\" >-1</td>\n",
       "    </tr>\n",
       "    <tr>\n",
       "      <th id=\"T_26dd8_level0_row15\" class=\"row_heading level0 row15\" >15</th>\n",
       "      <td id=\"T_26dd8_row15_col0\" class=\"data row15 col0\" >Use GPU</td>\n",
       "      <td id=\"T_26dd8_row15_col1\" class=\"data row15 col1\" >False</td>\n",
       "    </tr>\n",
       "    <tr>\n",
       "      <th id=\"T_26dd8_level0_row16\" class=\"row_heading level0 row16\" >16</th>\n",
       "      <td id=\"T_26dd8_row16_col0\" class=\"data row16 col0\" >Log Experiment</td>\n",
       "      <td id=\"T_26dd8_row16_col1\" class=\"data row16 col1\" >False</td>\n",
       "    </tr>\n",
       "    <tr>\n",
       "      <th id=\"T_26dd8_level0_row17\" class=\"row_heading level0 row17\" >17</th>\n",
       "      <td id=\"T_26dd8_row17_col0\" class=\"data row17 col0\" >Experiment Name</td>\n",
       "      <td id=\"T_26dd8_row17_col1\" class=\"data row17 col1\" >clf-default-name</td>\n",
       "    </tr>\n",
       "    <tr>\n",
       "      <th id=\"T_26dd8_level0_row18\" class=\"row_heading level0 row18\" >18</th>\n",
       "      <td id=\"T_26dd8_row18_col0\" class=\"data row18 col0\" >USI</td>\n",
       "      <td id=\"T_26dd8_row18_col1\" class=\"data row18 col1\" >84ce</td>\n",
       "    </tr>\n",
       "  </tbody>\n",
       "</table>\n"
      ],
      "text/plain": [
       "<pandas.io.formats.style.Styler at 0x13353c1be80>"
      ]
     },
     "metadata": {},
     "output_type": "display_data"
    },
    {
     "data": {
      "text/html": [],
      "text/plain": [
       "<IPython.core.display.HTML object>"
      ]
     },
     "metadata": {},
     "output_type": "display_data"
    },
    {
     "data": {
      "text/html": [
       "<style type=\"text/css\">\n",
       "#T_0e7a9 th {\n",
       "  text-align: left;\n",
       "}\n",
       "#T_0e7a9_row0_col0, #T_0e7a9_row1_col0, #T_0e7a9_row1_col1, #T_0e7a9_row1_col2, #T_0e7a9_row1_col3, #T_0e7a9_row1_col4, #T_0e7a9_row1_col5, #T_0e7a9_row1_col6, #T_0e7a9_row1_col7, #T_0e7a9_row2_col0, #T_0e7a9_row2_col1, #T_0e7a9_row2_col2, #T_0e7a9_row2_col3, #T_0e7a9_row2_col4, #T_0e7a9_row2_col5, #T_0e7a9_row2_col6, #T_0e7a9_row2_col7, #T_0e7a9_row3_col0, #T_0e7a9_row3_col1, #T_0e7a9_row3_col2, #T_0e7a9_row3_col3, #T_0e7a9_row3_col4, #T_0e7a9_row3_col5, #T_0e7a9_row3_col6, #T_0e7a9_row3_col7, #T_0e7a9_row4_col0, #T_0e7a9_row4_col1, #T_0e7a9_row4_col2, #T_0e7a9_row4_col3, #T_0e7a9_row4_col4, #T_0e7a9_row4_col5, #T_0e7a9_row4_col6, #T_0e7a9_row4_col7, #T_0e7a9_row5_col0, #T_0e7a9_row5_col1, #T_0e7a9_row5_col2, #T_0e7a9_row5_col3, #T_0e7a9_row5_col4, #T_0e7a9_row5_col5, #T_0e7a9_row5_col6, #T_0e7a9_row5_col7, #T_0e7a9_row6_col0, #T_0e7a9_row6_col1, #T_0e7a9_row6_col2, #T_0e7a9_row6_col3, #T_0e7a9_row6_col4, #T_0e7a9_row6_col5, #T_0e7a9_row6_col6, #T_0e7a9_row6_col7, #T_0e7a9_row7_col0, #T_0e7a9_row7_col1, #T_0e7a9_row7_col2, #T_0e7a9_row7_col3, #T_0e7a9_row7_col4, #T_0e7a9_row7_col5, #T_0e7a9_row7_col6, #T_0e7a9_row7_col7, #T_0e7a9_row8_col0, #T_0e7a9_row8_col1, #T_0e7a9_row8_col2, #T_0e7a9_row8_col3, #T_0e7a9_row8_col4, #T_0e7a9_row8_col5, #T_0e7a9_row8_col6, #T_0e7a9_row8_col7, #T_0e7a9_row9_col0, #T_0e7a9_row9_col1, #T_0e7a9_row9_col2, #T_0e7a9_row9_col3, #T_0e7a9_row9_col4, #T_0e7a9_row9_col5, #T_0e7a9_row9_col6, #T_0e7a9_row9_col7, #T_0e7a9_row10_col0, #T_0e7a9_row10_col1, #T_0e7a9_row10_col2, #T_0e7a9_row10_col3, #T_0e7a9_row10_col4, #T_0e7a9_row10_col5, #T_0e7a9_row10_col6, #T_0e7a9_row10_col7, #T_0e7a9_row11_col0, #T_0e7a9_row11_col1, #T_0e7a9_row11_col2, #T_0e7a9_row11_col3, #T_0e7a9_row11_col4, #T_0e7a9_row11_col5, #T_0e7a9_row11_col6, #T_0e7a9_row11_col7, #T_0e7a9_row12_col0, #T_0e7a9_row12_col1, #T_0e7a9_row12_col2, #T_0e7a9_row12_col3, #T_0e7a9_row12_col4, #T_0e7a9_row12_col5, #T_0e7a9_row12_col6, #T_0e7a9_row12_col7, #T_0e7a9_row13_col0, #T_0e7a9_row13_col1, #T_0e7a9_row13_col2, #T_0e7a9_row13_col3, #T_0e7a9_row13_col4, #T_0e7a9_row13_col5, #T_0e7a9_row13_col6, #T_0e7a9_row13_col7 {\n",
       "  text-align: left;\n",
       "}\n",
       "#T_0e7a9_row0_col1, #T_0e7a9_row0_col2, #T_0e7a9_row0_col3, #T_0e7a9_row0_col4, #T_0e7a9_row0_col5, #T_0e7a9_row0_col6, #T_0e7a9_row0_col7 {\n",
       "  text-align: left;\n",
       "  background-color: yellow;\n",
       "}\n",
       "#T_0e7a9_row0_col8, #T_0e7a9_row1_col8, #T_0e7a9_row2_col8, #T_0e7a9_row3_col8, #T_0e7a9_row4_col8, #T_0e7a9_row5_col8, #T_0e7a9_row6_col8, #T_0e7a9_row7_col8, #T_0e7a9_row8_col8, #T_0e7a9_row9_col8, #T_0e7a9_row10_col8, #T_0e7a9_row11_col8, #T_0e7a9_row12_col8 {\n",
       "  text-align: left;\n",
       "  background-color: lightgrey;\n",
       "}\n",
       "#T_0e7a9_row13_col8 {\n",
       "  text-align: left;\n",
       "  background-color: yellow;\n",
       "  background-color: lightgrey;\n",
       "}\n",
       "</style>\n",
       "<table id=\"T_0e7a9\">\n",
       "  <thead>\n",
       "    <tr>\n",
       "      <th class=\"blank level0\" >&nbsp;</th>\n",
       "      <th id=\"T_0e7a9_level0_col0\" class=\"col_heading level0 col0\" >Model</th>\n",
       "      <th id=\"T_0e7a9_level0_col1\" class=\"col_heading level0 col1\" >Accuracy</th>\n",
       "      <th id=\"T_0e7a9_level0_col2\" class=\"col_heading level0 col2\" >AUC</th>\n",
       "      <th id=\"T_0e7a9_level0_col3\" class=\"col_heading level0 col3\" >Recall</th>\n",
       "      <th id=\"T_0e7a9_level0_col4\" class=\"col_heading level0 col4\" >Prec.</th>\n",
       "      <th id=\"T_0e7a9_level0_col5\" class=\"col_heading level0 col5\" >F1</th>\n",
       "      <th id=\"T_0e7a9_level0_col6\" class=\"col_heading level0 col6\" >Kappa</th>\n",
       "      <th id=\"T_0e7a9_level0_col7\" class=\"col_heading level0 col7\" >MCC</th>\n",
       "      <th id=\"T_0e7a9_level0_col8\" class=\"col_heading level0 col8\" >TT (Sec)</th>\n",
       "    </tr>\n",
       "  </thead>\n",
       "  <tbody>\n",
       "    <tr>\n",
       "      <th id=\"T_0e7a9_level0_row0\" class=\"row_heading level0 row0\" >lightgbm</th>\n",
       "      <td id=\"T_0e7a9_row0_col0\" class=\"data row0 col0\" >Light Gradient Boosting Machine</td>\n",
       "      <td id=\"T_0e7a9_row0_col1\" class=\"data row0 col1\" >0.9794</td>\n",
       "      <td id=\"T_0e7a9_row0_col2\" class=\"data row0 col2\" >0.9952</td>\n",
       "      <td id=\"T_0e7a9_row0_col3\" class=\"data row0 col3\" >0.9051</td>\n",
       "      <td id=\"T_0e7a9_row0_col4\" class=\"data row0 col4\" >0.9069</td>\n",
       "      <td id=\"T_0e7a9_row0_col5\" class=\"data row0 col5\" >0.9059</td>\n",
       "      <td id=\"T_0e7a9_row0_col6\" class=\"data row0 col6\" >0.8943</td>\n",
       "      <td id=\"T_0e7a9_row0_col7\" class=\"data row0 col7\" >0.8944</td>\n",
       "      <td id=\"T_0e7a9_row0_col8\" class=\"data row0 col8\" >0.5470</td>\n",
       "    </tr>\n",
       "    <tr>\n",
       "      <th id=\"T_0e7a9_level0_row1\" class=\"row_heading level0 row1\" >rf</th>\n",
       "      <td id=\"T_0e7a9_row1_col0\" class=\"data row1 col0\" >Random Forest Classifier</td>\n",
       "      <td id=\"T_0e7a9_row1_col1\" class=\"data row1 col1\" >0.9787</td>\n",
       "      <td id=\"T_0e7a9_row1_col2\" class=\"data row1 col2\" >0.9881</td>\n",
       "      <td id=\"T_0e7a9_row1_col3\" class=\"data row1 col3\" >0.9040</td>\n",
       "      <td id=\"T_0e7a9_row1_col4\" class=\"data row1 col4\" >0.9019</td>\n",
       "      <td id=\"T_0e7a9_row1_col5\" class=\"data row1 col5\" >0.9029</td>\n",
       "      <td id=\"T_0e7a9_row1_col6\" class=\"data row1 col6\" >0.8909</td>\n",
       "      <td id=\"T_0e7a9_row1_col7\" class=\"data row1 col7\" >0.8910</td>\n",
       "      <td id=\"T_0e7a9_row1_col8\" class=\"data row1 col8\" >3.0720</td>\n",
       "    </tr>\n",
       "    <tr>\n",
       "      <th id=\"T_0e7a9_level0_row2\" class=\"row_heading level0 row2\" >et</th>\n",
       "      <td id=\"T_0e7a9_row2_col0\" class=\"data row2 col0\" >Extra Trees Classifier</td>\n",
       "      <td id=\"T_0e7a9_row2_col1\" class=\"data row2 col1\" >0.9784</td>\n",
       "      <td id=\"T_0e7a9_row2_col2\" class=\"data row2 col2\" >0.9777</td>\n",
       "      <td id=\"T_0e7a9_row2_col3\" class=\"data row2 col3\" >0.9027</td>\n",
       "      <td id=\"T_0e7a9_row2_col4\" class=\"data row2 col4\" >0.9009</td>\n",
       "      <td id=\"T_0e7a9_row2_col5\" class=\"data row2 col5\" >0.9017</td>\n",
       "      <td id=\"T_0e7a9_row2_col6\" class=\"data row2 col6\" >0.8896</td>\n",
       "      <td id=\"T_0e7a9_row2_col7\" class=\"data row2 col7\" >0.8896</td>\n",
       "      <td id=\"T_0e7a9_row2_col8\" class=\"data row2 col8\" >2.2990</td>\n",
       "    </tr>\n",
       "    <tr>\n",
       "      <th id=\"T_0e7a9_level0_row3\" class=\"row_heading level0 row3\" >dt</th>\n",
       "      <td id=\"T_0e7a9_row3_col0\" class=\"data row3 col0\" >Decision Tree Classifier</td>\n",
       "      <td id=\"T_0e7a9_row3_col1\" class=\"data row3 col1\" >0.9783</td>\n",
       "      <td id=\"T_0e7a9_row3_col2\" class=\"data row3 col2\" >0.9632</td>\n",
       "      <td id=\"T_0e7a9_row3_col3\" class=\"data row3 col3\" >0.9029</td>\n",
       "      <td id=\"T_0e7a9_row3_col4\" class=\"data row3 col4\" >0.9000</td>\n",
       "      <td id=\"T_0e7a9_row3_col5\" class=\"data row3 col5\" >0.9014</td>\n",
       "      <td id=\"T_0e7a9_row3_col6\" class=\"data row3 col6\" >0.8892</td>\n",
       "      <td id=\"T_0e7a9_row3_col7\" class=\"data row3 col7\" >0.8892</td>\n",
       "      <td id=\"T_0e7a9_row3_col8\" class=\"data row3 col8\" >0.1260</td>\n",
       "    </tr>\n",
       "    <tr>\n",
       "      <th id=\"T_0e7a9_level0_row4\" class=\"row_heading level0 row4\" >knn</th>\n",
       "      <td id=\"T_0e7a9_row4_col0\" class=\"data row4 col0\" >K Neighbors Classifier</td>\n",
       "      <td id=\"T_0e7a9_row4_col1\" class=\"data row4 col1\" >0.9650</td>\n",
       "      <td id=\"T_0e7a9_row4_col2\" class=\"data row4 col2\" >0.9390</td>\n",
       "      <td id=\"T_0e7a9_row4_col3\" class=\"data row4 col3\" >0.7843</td>\n",
       "      <td id=\"T_0e7a9_row4_col4\" class=\"data row4 col4\" >0.8837</td>\n",
       "      <td id=\"T_0e7a9_row4_col5\" class=\"data row4 col5\" >0.8310</td>\n",
       "      <td id=\"T_0e7a9_row4_col6\" class=\"data row4 col6\" >0.8115</td>\n",
       "      <td id=\"T_0e7a9_row4_col7\" class=\"data row4 col7\" >0.8134</td>\n",
       "      <td id=\"T_0e7a9_row4_col8\" class=\"data row4 col8\" >0.6330</td>\n",
       "    </tr>\n",
       "    <tr>\n",
       "      <th id=\"T_0e7a9_level0_row5\" class=\"row_heading level0 row5\" >gbc</th>\n",
       "      <td id=\"T_0e7a9_row5_col0\" class=\"data row5 col0\" >Gradient Boosting Classifier</td>\n",
       "      <td id=\"T_0e7a9_row5_col1\" class=\"data row5 col1\" >0.9634</td>\n",
       "      <td id=\"T_0e7a9_row5_col2\" class=\"data row5 col2\" >0.9867</td>\n",
       "      <td id=\"T_0e7a9_row5_col3\" class=\"data row5 col3\" >0.8026</td>\n",
       "      <td id=\"T_0e7a9_row5_col4\" class=\"data row5 col4\" >0.8547</td>\n",
       "      <td id=\"T_0e7a9_row5_col5\" class=\"data row5 col5\" >0.8278</td>\n",
       "      <td id=\"T_0e7a9_row5_col6\" class=\"data row5 col6\" >0.8073</td>\n",
       "      <td id=\"T_0e7a9_row5_col7\" class=\"data row5 col7\" >0.8079</td>\n",
       "      <td id=\"T_0e7a9_row5_col8\" class=\"data row5 col8\" >4.5890</td>\n",
       "    </tr>\n",
       "    <tr>\n",
       "      <th id=\"T_0e7a9_level0_row6\" class=\"row_heading level0 row6\" >ada</th>\n",
       "      <td id=\"T_0e7a9_row6_col0\" class=\"data row6 col0\" >Ada Boost Classifier</td>\n",
       "      <td id=\"T_0e7a9_row6_col1\" class=\"data row6 col1\" >0.9299</td>\n",
       "      <td id=\"T_0e7a9_row6_col2\" class=\"data row6 col2\" >0.9609</td>\n",
       "      <td id=\"T_0e7a9_row6_col3\" class=\"data row6 col3\" >0.5429</td>\n",
       "      <td id=\"T_0e7a9_row6_col4\" class=\"data row6 col4\" >0.7487</td>\n",
       "      <td id=\"T_0e7a9_row6_col5\" class=\"data row6 col5\" >0.6292</td>\n",
       "      <td id=\"T_0e7a9_row6_col6\" class=\"data row6 col6\" >0.5916</td>\n",
       "      <td id=\"T_0e7a9_row6_col7\" class=\"data row6 col7\" >0.6010</td>\n",
       "      <td id=\"T_0e7a9_row6_col8\" class=\"data row6 col8\" >1.5740</td>\n",
       "    </tr>\n",
       "    <tr>\n",
       "      <th id=\"T_0e7a9_level0_row7\" class=\"row_heading level0 row7\" >lda</th>\n",
       "      <td id=\"T_0e7a9_row7_col0\" class=\"data row7 col0\" >Linear Discriminant Analysis</td>\n",
       "      <td id=\"T_0e7a9_row7_col1\" class=\"data row7 col1\" >0.8954</td>\n",
       "      <td id=\"T_0e7a9_row7_col2\" class=\"data row7 col2\" >0.9185</td>\n",
       "      <td id=\"T_0e7a9_row7_col3\" class=\"data row7 col3\" >0.3337</td>\n",
       "      <td id=\"T_0e7a9_row7_col4\" class=\"data row7 col4\" >0.5377</td>\n",
       "      <td id=\"T_0e7a9_row7_col5\" class=\"data row7 col5\" >0.4118</td>\n",
       "      <td id=\"T_0e7a9_row7_col6\" class=\"data row7 col6\" >0.3578</td>\n",
       "      <td id=\"T_0e7a9_row7_col7\" class=\"data row7 col7\" >0.3701</td>\n",
       "      <td id=\"T_0e7a9_row7_col8\" class=\"data row7 col8\" >0.1180</td>\n",
       "    </tr>\n",
       "    <tr>\n",
       "      <th id=\"T_0e7a9_level0_row8\" class=\"row_heading level0 row8\" >qda</th>\n",
       "      <td id=\"T_0e7a9_row8_col0\" class=\"data row8 col0\" >Quadratic Discriminant Analysis</td>\n",
       "      <td id=\"T_0e7a9_row8_col1\" class=\"data row8 col1\" >0.7542</td>\n",
       "      <td id=\"T_0e7a9_row8_col2\" class=\"data row8 col2\" >0.6343</td>\n",
       "      <td id=\"T_0e7a9_row8_col3\" class=\"data row8 col3\" >0.3007</td>\n",
       "      <td id=\"T_0e7a9_row8_col4\" class=\"data row8 col4\" >0.2641</td>\n",
       "      <td id=\"T_0e7a9_row8_col5\" class=\"data row8 col5\" >0.1687</td>\n",
       "      <td id=\"T_0e7a9_row8_col6\" class=\"data row8 col6\" >0.0815</td>\n",
       "      <td id=\"T_0e7a9_row8_col7\" class=\"data row8 col7\" >0.1040</td>\n",
       "      <td id=\"T_0e7a9_row8_col8\" class=\"data row8 col8\" >0.1060</td>\n",
       "    </tr>\n",
       "    <tr>\n",
       "      <th id=\"T_0e7a9_level0_row9\" class=\"row_heading level0 row9\" >lr</th>\n",
       "      <td id=\"T_0e7a9_row9_col0\" class=\"data row9 col0\" >Logistic Regression</td>\n",
       "      <td id=\"T_0e7a9_row9_col1\" class=\"data row9 col1\" >0.8901</td>\n",
       "      <td id=\"T_0e7a9_row9_col2\" class=\"data row9 col2\" >0.7391</td>\n",
       "      <td id=\"T_0e7a9_row9_col3\" class=\"data row9 col3\" >0.0013</td>\n",
       "      <td id=\"T_0e7a9_row9_col4\" class=\"data row9 col4\" >0.2513</td>\n",
       "      <td id=\"T_0e7a9_row9_col5\" class=\"data row9 col5\" >0.0026</td>\n",
       "      <td id=\"T_0e7a9_row9_col6\" class=\"data row9 col6\" >0.0017</td>\n",
       "      <td id=\"T_0e7a9_row9_col7\" class=\"data row9 col7\" >0.0118</td>\n",
       "      <td id=\"T_0e7a9_row9_col8\" class=\"data row9 col8\" >1.1380</td>\n",
       "    </tr>\n",
       "    <tr>\n",
       "      <th id=\"T_0e7a9_level0_row10\" class=\"row_heading level0 row10\" >ridge</th>\n",
       "      <td id=\"T_0e7a9_row10_col0\" class=\"data row10 col0\" >Ridge Classifier</td>\n",
       "      <td id=\"T_0e7a9_row10_col1\" class=\"data row10 col1\" >0.8902</td>\n",
       "      <td id=\"T_0e7a9_row10_col2\" class=\"data row10 col2\" >0.0000</td>\n",
       "      <td id=\"T_0e7a9_row10_col3\" class=\"data row10 col3\" >0.0002</td>\n",
       "      <td id=\"T_0e7a9_row10_col4\" class=\"data row10 col4\" >0.1167</td>\n",
       "      <td id=\"T_0e7a9_row10_col5\" class=\"data row10 col5\" >0.0003</td>\n",
       "      <td id=\"T_0e7a9_row10_col6\" class=\"data row10 col6\" >0.0002</td>\n",
       "      <td id=\"T_0e7a9_row10_col7\" class=\"data row10 col7\" >0.0018</td>\n",
       "      <td id=\"T_0e7a9_row10_col8\" class=\"data row10 col8\" >0.0820</td>\n",
       "    </tr>\n",
       "    <tr>\n",
       "      <th id=\"T_0e7a9_level0_row11\" class=\"row_heading level0 row11\" >nb</th>\n",
       "      <td id=\"T_0e7a9_row11_col0\" class=\"data row11 col0\" >Naive Bayes</td>\n",
       "      <td id=\"T_0e7a9_row11_col1\" class=\"data row11 col1\" >0.8903</td>\n",
       "      <td id=\"T_0e7a9_row11_col2\" class=\"data row11 col2\" >0.6142</td>\n",
       "      <td id=\"T_0e7a9_row11_col3\" class=\"data row11 col3\" >0.0000</td>\n",
       "      <td id=\"T_0e7a9_row11_col4\" class=\"data row11 col4\" >0.0000</td>\n",
       "      <td id=\"T_0e7a9_row11_col5\" class=\"data row11 col5\" >0.0000</td>\n",
       "      <td id=\"T_0e7a9_row11_col6\" class=\"data row11 col6\" >0.0000</td>\n",
       "      <td id=\"T_0e7a9_row11_col7\" class=\"data row11 col7\" >0.0000</td>\n",
       "      <td id=\"T_0e7a9_row11_col8\" class=\"data row11 col8\" >0.0840</td>\n",
       "    </tr>\n",
       "    <tr>\n",
       "      <th id=\"T_0e7a9_level0_row12\" class=\"row_heading level0 row12\" >svm</th>\n",
       "      <td id=\"T_0e7a9_row12_col0\" class=\"data row12 col0\" >SVM - Linear Kernel</td>\n",
       "      <td id=\"T_0e7a9_row12_col1\" class=\"data row12 col1\" >0.8903</td>\n",
       "      <td id=\"T_0e7a9_row12_col2\" class=\"data row12 col2\" >0.0000</td>\n",
       "      <td id=\"T_0e7a9_row12_col3\" class=\"data row12 col3\" >0.0000</td>\n",
       "      <td id=\"T_0e7a9_row12_col4\" class=\"data row12 col4\" >0.0000</td>\n",
       "      <td id=\"T_0e7a9_row12_col5\" class=\"data row12 col5\" >0.0000</td>\n",
       "      <td id=\"T_0e7a9_row12_col6\" class=\"data row12 col6\" >0.0000</td>\n",
       "      <td id=\"T_0e7a9_row12_col7\" class=\"data row12 col7\" >0.0000</td>\n",
       "      <td id=\"T_0e7a9_row12_col8\" class=\"data row12 col8\" >0.2340</td>\n",
       "    </tr>\n",
       "    <tr>\n",
       "      <th id=\"T_0e7a9_level0_row13\" class=\"row_heading level0 row13\" >dummy</th>\n",
       "      <td id=\"T_0e7a9_row13_col0\" class=\"data row13 col0\" >Dummy Classifier</td>\n",
       "      <td id=\"T_0e7a9_row13_col1\" class=\"data row13 col1\" >0.8903</td>\n",
       "      <td id=\"T_0e7a9_row13_col2\" class=\"data row13 col2\" >0.5000</td>\n",
       "      <td id=\"T_0e7a9_row13_col3\" class=\"data row13 col3\" >0.0000</td>\n",
       "      <td id=\"T_0e7a9_row13_col4\" class=\"data row13 col4\" >0.0000</td>\n",
       "      <td id=\"T_0e7a9_row13_col5\" class=\"data row13 col5\" >0.0000</td>\n",
       "      <td id=\"T_0e7a9_row13_col6\" class=\"data row13 col6\" >0.0000</td>\n",
       "      <td id=\"T_0e7a9_row13_col7\" class=\"data row13 col7\" >0.0000</td>\n",
       "      <td id=\"T_0e7a9_row13_col8\" class=\"data row13 col8\" >0.0740</td>\n",
       "    </tr>\n",
       "  </tbody>\n",
       "</table>\n"
      ],
      "text/plain": [
       "<pandas.io.formats.style.Styler at 0x13353c1b2e0>"
      ]
     },
     "metadata": {},
     "output_type": "display_data"
    },
    {
     "data": {
      "text/html": [],
      "text/plain": [
       "<IPython.core.display.HTML object>"
      ]
     },
     "metadata": {},
     "output_type": "display_data"
    },
    {
     "name": "stdout",
     "output_type": "stream",
     "text": [
      "LGBMClassifier(boosting_type='gbdt', class_weight=None, colsample_bytree=1.0,\n",
      "               importance_type='split', learning_rate=0.1, max_depth=-1,\n",
      "               min_child_samples=20, min_child_weight=0.001, min_split_gain=0.0,\n",
      "               n_estimators=100, n_jobs=-1, num_leaves=31, objective=None,\n",
      "               random_state=1, reg_alpha=0.0, reg_lambda=0.0, subsample=1.0,\n",
      "               subsample_for_bin=200000, subsample_freq=0)\n"
     ]
    }
   ],
   "source": [
    "# Importando o módulo de classificação\n",
    "from pycaret.classification import *\n",
    "\n",
    "# A função setup inicializa o ambiente no pycaret e prepara os dados para modelagem\n",
    "setup_data = setup(data=df, target='Transferência Especial', session_id=1)\n",
    "\n",
    "# Comparando os modelos\n",
    "best_model = compare_models(sort='F1', n_select=1)  # 'sort' define o critério de comparação, 'F1' para F1-measure\n",
    "\n",
    "print(best_model)"
   ]
  },
  {
   "cell_type": "markdown",
   "id": "cf716f97-c464-4939-95df-fd740f8c1105",
   "metadata": {},
   "source": [
    "# 4- A melhor média F1, veio do algoritmo Light Gradient Boosting Machine"
   ]
  },
  {
   "cell_type": "markdown",
   "id": "0a0542e4-c9e8-46c6-89e5-3dcd802199ab",
   "metadata": {},
   "source": [
    "# 5- Treinando a base com algoritmo Light Gradient Boosting Machine e testando uma nova entrada para predição"
   ]
  },
  {
   "cell_type": "code",
   "execution_count": 17,
   "id": "c7d64851-a844-48ac-9397-0d47a06c27a5",
   "metadata": {},
   "outputs": [
    {
     "name": "stdout",
     "output_type": "stream",
     "text": [
      "[LightGBM] [Warning] Found whitespace in feature_names, replace with underlines\n",
      "[LightGBM] [Info] Number of positive: 20284, number of negative: 164510\n",
      "[LightGBM] [Info] Auto-choosing row-wise multi-threading, the overhead of testing was 0.003793 seconds.\n",
      "You can set `force_row_wise=true` to remove the overhead.\n",
      "And if memory is not enough, you can set `force_col_wise=true`.\n",
      "[LightGBM] [Info] Total Bins 285\n",
      "[LightGBM] [Info] Number of data points in the train set: 184794, number of used features: 6\n",
      "[LightGBM] [Info] [binary:BoostFromScore]: pavg=0.109765 -> initscore=-2.093139\n",
      "[LightGBM] [Info] Start training from score -2.093139\n",
      "Accuracy: 0.9801943765016559\n",
      "              precision    recall  f1-score   support\n",
      "\n",
      "           0       0.99      0.99      0.99     41141\n",
      "           1       0.91      0.91      0.91      5058\n",
      "\n",
      "    accuracy                           0.98     46199\n",
      "   macro avg       0.95      0.95      0.95     46199\n",
      "weighted avg       0.98      0.98      0.98     46199\n",
      "\n"
     ]
    }
   ],
   "source": [
    "import lightgbm as lgb\n",
    "from sklearn.model_selection import train_test_split\n",
    "from sklearn.metrics import classification_report, accuracy_score\n",
    "\n",
    "X = df.drop('Transferência Especial', axis=1) \n",
    "y = df['Transferência Especial']\n",
    "\n",
    "# Dividir os dados em treinamento e teste\n",
    "X_train, X_test, y_train, y_test = train_test_split(X, y, test_size=0.2, random_state=42)\n",
    "\n",
    "# Configurar o modelo\n",
    "model = lgb.LGBMClassifier(\n",
    "    num_leaves=31,             # Número de folhas na árvore\n",
    "    max_depth=-1,              # Profundidade máxima das árvores, -1 significa sem limite\n",
    "    learning_rate=0.1,         # Taxa de aprendizado\n",
    "    n_estimators=100           # Número de árvores a serem construídas\n",
    ")\n",
    "\n",
    "# Treinar o modelo\n",
    "model.fit(X_train, y_train)\n",
    "\n",
    "# Fazer previsões\n",
    "y_pred = model.predict(X_test)\n",
    "\n",
    "# Avaliar o modelo\n",
    "print(\"Accuracy:\", accuracy_score(y_test, y_pred))\n",
    "print(classification_report(y_test, y_pred))"
   ]
  },
  {
   "cell_type": "code",
   "execution_count": 26,
   "id": "6c6b9de3-a350-404b-bdb7-e961cfb7f8a3",
   "metadata": {},
   "outputs": [
    {
     "name": "stdout",
     "output_type": "stream",
     "text": [
      "Predição: [1]\n"
     ]
    }
   ],
   "source": [
    "import numpy as np\n",
    "\n",
    "novo_dado = [2021, 8, 1, 0, 0, 450000]\n",
    "novo_dado_reshaped = np.array([novo_dado])  # Adiciona uma nova dimensão para formar um array 2D\n",
    "new_predictions = model.predict(novo_dado_reshaped)\n",
    "\n",
    "print(\"Predição:\", new_predictions)"
   ]
  }
 ],
 "metadata": {
  "kernelspec": {
   "display_name": "Python 3 (ipykernel)",
   "language": "python",
   "name": "python3"
  },
  "language_info": {
   "codemirror_mode": {
    "name": "ipython",
    "version": 3
   },
   "file_extension": ".py",
   "mimetype": "text/x-python",
   "name": "python",
   "nbconvert_exporter": "python",
   "pygments_lexer": "ipython3",
   "version": "3.9.0"
  }
 },
 "nbformat": 4,
 "nbformat_minor": 5
}
